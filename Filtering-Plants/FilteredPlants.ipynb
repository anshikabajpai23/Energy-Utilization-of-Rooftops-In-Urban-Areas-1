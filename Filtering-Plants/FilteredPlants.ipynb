{
  "nbformat": 4,
  "nbformat_minor": 0,
  "metadata": {
    "colab": {
      "name": "FilteredPlants.ipynb",
      "provenance": [],
      "collapsed_sections": [],
      "machine_shape": "hm",
      "include_colab_link": true
    },
    "kernelspec": {
      "name": "python3",
      "display_name": "Python 3"
    }
  },
  "cells": [
    {
      "cell_type": "markdown",
      "metadata": {
        "id": "view-in-github",
        "colab_type": "text"
      },
      "source": [
        "<a href=\"https://colab.research.google.com/github/anshikabajpai23/Energy-Utilization-of-Rooftops-In-Urban-Areas/blob/FilterPlants/Filtering-Plants/FilteredPlants.ipynb\" target=\"_parent\"><img src=\"https://colab.research.google.com/assets/colab-badge.svg\" alt=\"Open In Colab\"/></a>"
      ]
    },
    {
      "cell_type": "code",
      "metadata": {
        "id": "sfrRb3AgmdoC",
        "colab_type": "code",
        "colab": {}
      },
      "source": [
        "from google.colab import drive\n",
        "drive.mount('/content/gdrive')"
      ],
      "execution_count": 0,
      "outputs": []
    },
    {
      "cell_type": "code",
      "metadata": {
        "id": "y9cpfnPg46sc",
        "colab_type": "code",
        "cellView": "form",
        "colab": {}
      },
      "source": [
        "# @markdown Loading Dependencies\n",
        "%%capture installation\n",
        "!pip install pyrebase\n",
        "!pip install patool\n",
        "!pip install pgeocode\n",
        "\n",
        "from datetime import datetime\n",
        "import math\n",
        "from bs4 import BeautifulSoup as bs\n",
        "import requests\n",
        "import pgeocode\n",
        "import pyrebase\n",
        "import json\n",
        "import patoolib\n",
        "from distutils.dir_util import copy_tree\n",
        "import os\n",
        "import cv2\n",
        "import decimal\n",
        "import numpy as np\n",
        "import pandas as pd\n",
        "from keras.preprocessing.image import save_img \n",
        "from PIL import Image\n"
      ],
      "execution_count": 0,
      "outputs": []
    },
    {
      "cell_type": "code",
      "metadata": {
        "id": "JeNZ755Jm2wG",
        "colab_type": "code",
        "colab": {}
      },
      "source": [
        "\n",
        "patoolib.extract_archive(\"/content/gdrive/My Drive/nerve.rar\", outdir=\"/content\")\n",
        "src = '/content/nerve/nerve/model'\n",
        "dst = '/content/model'\n",
        "copy_tree(src, dst)\n",
        "from model.u_net import get_unet_256\n"
      ],
      "execution_count": 0,
      "outputs": []
    },
    {
      "cell_type": "code",
      "metadata": {
        "id": "tbPQV6N7Mgt0",
        "colab_type": "code",
        "cellView": "both",
        "outputId": "dbf9fae1-a770-48bf-caba-655c19139d75",
        "colab": {
          "base_uri": "https://localhost:8080/",
          "height": 34
        }
      },
      "source": [
        "# @markdown Meta-Data\n",
        "#add details according to your account on firebase\n",
        "%%file configshare.json\n",
        "{\n",
        "  \n",
        "}"
      ],
      "execution_count": 0,
      "outputs": [
        {
          "output_type": "stream",
          "text": [
            "Overwriting configshare.json\n"
          ],
          "name": "stdout"
        }
      ]
    },
    {
      "cell_type": "code",
      "metadata": {
        "id": "iSq8L_-cZUt5",
        "colab_type": "code",
        "colab": {}
      },
      "source": [
        ""
      ],
      "execution_count": 0,
      "outputs": []
    },
    {
      "cell_type": "code",
      "metadata": {
        "id": "KjHg9GGpp0qc",
        "colab_type": "code",
        "cellView": "form",
        "outputId": "98efa3cc-240e-444a-8e8e-b77db7b34b33",
        "colab": {
          "base_uri": "https://localhost:8080/",
          "height": 34
        }
      },
      "source": [
        "# @markdown Connecting with Firebase\n",
        "\n",
        "class Firebase:\n",
        "    def __init__(self,configFilePath):\n",
        "        '''\n",
        "            Please allow read and write privilege to all \n",
        "        '''\n",
        "        config_data = open(configFilePath,\"r\")\n",
        "        config = json.load(config_data)\n",
        "        self.firebase = pyrebase.initialize_app(config)\n",
        "        self.db =  self.firebase.database()\n",
        "        self.storage = self.firebase.storage()\n",
        "    def downloadLatestImage(self):\n",
        "        self.img_from_fb = []\n",
        "        images = [image.val() for image in self.db.child('uploadedFromPython').get().each()]\n",
        "        print(images[len(images)-1])\n",
        "        for i in range(4):\n",
        "          img_name = str(images[len(images)-1-i])\n",
        "          self.img_from_fb.append(img_name)\n",
        "          self.downloadImageFromFireBase('uploadedFromPython/'+img_name,img_name)\n",
        "    def downloadImageFromFireBase(self,path,saveName):\n",
        "        '''\n",
        "            folder fetches image from url\n",
        "            and saves as downloads.jpeg\n",
        "            path example: images/one.jpeg\n",
        "        '''\n",
        "        self.storage.child(path).download(saveName)\n",
        "    def uploadImageFromFireBase(self,imagePath,imageName):\n",
        "        '''\n",
        "            imagePath is the path of image to be uploaded\n",
        "            imageName is the name reflected on firebase in uploadedFromPython\n",
        "        '''\n",
        "        uploadPath = 'segmentedImages/'+imageName\n",
        "        self.storage.child(uploadPath).put(imagePath)\n",
        "        self.db.child('segmentedImages').push(imageName)\n",
        "    def getLat(self):\n",
        "        #lat =[lat.val() for lat in self.db.child('uploadedLat').get().each()]\n",
        "        lat = self.db.child('uploadedLat').get()\n",
        "        self.latitude = lat.val()\n",
        "        return self.latitude\n",
        "    def getLon(self):\n",
        "        #lon =[lon.val() for lon in self.db.child('uploadedLon').get().each()]\n",
        "        lon = self.db.child('uploadedLon').get()\n",
        "        self.longitude = lon.val()\n",
        "        return self.longitude\n",
        "    def getArea(self):\n",
        "        areaOfRooftop = self.db.child('uploadedArea').get()\n",
        "        self.area = areaOfRooftop.val()\n",
        "        return self.area\n",
        "    def getPostalCode(self):\n",
        "        postalCode = self.db.child('uploadedPostalCode').get()\n",
        "        self.postal = postalCode.val()\n",
        "        return self.postal\n",
        "    def saveResultToDatabase(self,result):\n",
        "        self.db.child('result').push(result)\n",
        "obj  = Firebase(\"configshare.json\")\n",
        "obj.downloadLatestImage()"
      ],
      "execution_count": 0,
      "outputs": [
        {
          "output_type": "stream",
          "text": [
            "3.jpg\n"
          ],
          "name": "stdout"
        }
      ]
    },
    {
      "cell_type": "code",
      "metadata": {
        "id": "eDQBCOzwaXlg",
        "colab_type": "code",
        "outputId": "e7501fdb-d0bf-457c-fe10-11a01b4bd950",
        "colab": {
          "base_uri": "https://localhost:8080/",
          "height": 85
        }
      },
      "source": [
        "print(obj.getLat())\n",
        "print(obj.getLon())\n",
        "print(obj.getArea())\n",
        "print(obj.getPostalCode())"
      ],
      "execution_count": 0,
      "outputs": [
        {
          "output_type": "stream",
          "text": [
            "26.8879745\n",
            "80.9337338\n",
            "10\n",
            "226020\n"
          ],
          "name": "stdout"
        }
      ]
    },
    {
      "cell_type": "code",
      "metadata": {
        "id": "CtUpZsZT2Lru",
        "colab_type": "code",
        "outputId": "6c07eb05-1cb9-4c6f-9016-f29467061a0c",
        "colab": {
          "base_uri": "https://localhost:8080/",
          "height": 34
        }
      },
      "source": [
        "obj.img_from_fb"
      ],
      "execution_count": 0,
      "outputs": [
        {
          "output_type": "execute_result",
          "data": {
            "text/plain": [
              "['3.jpg', '2.jpg', '1.jpg', '0.jpg']"
            ]
          },
          "metadata": {
            "tags": []
          },
          "execution_count": 67
        }
      ]
    },
    {
      "cell_type": "code",
      "metadata": {
        "colab_type": "code",
        "cellView": "both",
        "outputId": "5190c361-9180-4b0c-d01b-ba77d7638bfe",
        "id": "l1WxZdhi2OYZ",
        "colab": {
          "base_uri": "https://localhost:8080/",
          "height": 85
        }
      },
      "source": [
        "# @markdown IMAGE SEGMENTATION\n",
        "model = get_unet_256()\n",
        "data_dir = '/content'\n",
        "input_size = 256 \n",
        "epochs = 5\n",
        "batch_size = 16\n",
        "\n",
        "orig_width = 580\n",
        "orig_height = 420\n",
        "\n",
        "threshold = 0.5\n",
        "rles = []\n",
        "model.load_weights('/content/gdrive/My Drive/minor/segmentation_weights2.h5')\n",
        "x_batch=[]\n",
        "\n",
        "#img_from_fb = ['2.png','3.png','5.png','6.png']\n",
        "\n",
        "def run_length_encode(img):\n",
        "    '''\n",
        "    img: numpy array, 1 - mask, 0 - background\n",
        "    Returns run length as string formated\n",
        "    '''\n",
        "    pixels = img.transpose().flatten()\n",
        "    pixels = np.concatenate([[0], pixels, [0]])\n",
        "    runs = np.where(pixels[1:] != pixels[:-1])[0] + 1\n",
        "    runs[1::2] -= runs[::2]\n",
        "    return ' '.join(str(x) for x in runs)\n",
        "\n",
        "for i in obj.img_from_fb:\n",
        "  img_path = '/content/' + i\n",
        "  #img_path = '/content/' + i\n",
        "  img = cv2.imread(img_path)\n",
        "  img = cv2.resize(img, (input_size, input_size))\n",
        "  x_batch.append(img)\n",
        "\n",
        "x_batch = np.array(x_batch, np.float32) / 255\n",
        "preds = model.predict(x_batch)\n",
        "preds = np.squeeze(preds, axis=3)\n",
        "\n",
        "for pred in preds:\n",
        "  prob = cv2.resize(pred, (orig_width, orig_height))\n",
        "  mask = prob > threshold\n",
        "  rle = run_length_encode(mask)\n",
        "  rles.append(rle)\n",
        "#prob = cv2.resize(preds[0], (orig_width, orig_height))\n",
        "#mask = prob > threshold\n",
        "#rle = run_length_encode(mask)\n",
        "\n",
        "def rle_decode(mask_rle, shape=(orig_width,orig_height)):\n",
        "    #print('rle_decode(mask_rle = ', mask_rle)\n",
        "    '''\n",
        "    mask_rle: run-length as string formated (start length)\n",
        "    shape: (height,width) of array to return\n",
        "    Returns numpy array, 1 - mask, 0 - background\n",
        "\n",
        "    '''\n",
        "    s = mask_rle.split()\n",
        "    starts, lengths = [np.asarray(x, dtype=int) for x in (s[0:][::2], s[1:][::2])]\n",
        "    starts -= 1\n",
        "    ends = starts + lengths\n",
        "    img = np.zeros(shape[0]*shape[1], dtype=np.float32)\n",
        "    for lo, hi in zip(starts, ends):\n",
        "        img[lo:hi] = 1\n",
        "    return img.reshape(shape).T  # Needed to align to RLE direction\n",
        "\n",
        "mylist = img_path.split('/')\n",
        "mylist.pop()\n",
        "file_path = '/'.join(mylist)\n",
        "masks_path = []\n",
        "for k in range(len(rles)):\n",
        "  imgg= rle_decode(rles[k])\n",
        "  output = 'mask_' + obj.img_from_fb[k]\n",
        "  #output = 'mask_' + img_from_fb[k]\n",
        "  out_path = os.path.join(file_path, output)\n",
        "  masks_path.append(out_path)\n",
        "  save_img(out_path, imgg[..., np.newaxis])\n",
        "  print('Image Saved Succesfully at {} location with image name : {}'.format(file_path,output))\n",
        "  obj.uploadImageFromFireBase(out_path,output)\n"
      ],
      "execution_count": 0,
      "outputs": [
        {
          "output_type": "stream",
          "text": [
            "Image Saved Succesfully at /content location with image name : mask_3.jpg\n",
            "Image Saved Succesfully at /content location with image name : mask_2.jpg\n",
            "Image Saved Succesfully at /content location with image name : mask_1.jpg\n",
            "Image Saved Succesfully at /content location with image name : mask_0.jpg\n"
          ],
          "name": "stdout"
        }
      ]
    },
    {
      "cell_type": "code",
      "metadata": {
        "id": "53q7N4cnlM2-",
        "colab_type": "code",
        "cellView": "form",
        "colab": {}
      },
      "source": [
        "# @markdown Distance Calculator \n",
        "def calculateDist(lati1,long1,lati2,long2):\n",
        "  R = 6373.00\n",
        "\n",
        "  lat1 = math.radians(round(float(lati1),2))\n",
        "  lon1 = math.radians(round(float(long1),2))\n",
        "  lat2 = math.radians(lati2)\n",
        "  lon2 = math.radians(long2)\n",
        "\n",
        "  dlon = lon2 - lon1\n",
        "  dlat = lat2 - lat1\n",
        "\n",
        "  a = math.sin(dlat / 2)**2 + math.cos(lat1) * math.cos(lat2) * math.sin(dlon / 2)**2\n",
        "  c = 2 * math.atan2(math.sqrt(a), math.sqrt(1 - a))\n",
        "  distance = R * c\n",
        "#distance is in km\n",
        "  #print(distance)\n",
        "  return distance"
      ],
      "execution_count": 0,
      "outputs": []
    },
    {
      "cell_type": "code",
      "metadata": {
        "id": "6rzGd75_gMXG",
        "colab_type": "code",
        "cellView": "both",
        "outputId": "598e6b2a-2105-479b-9aa2-810e6716f094",
        "colab": {
          "base_uri": "https://localhost:8080/",
          "height": 105
        }
      },
      "source": [
        "# @markdown Calculations of Solar Potential, Temperature and Energy\n",
        "\n",
        "#list_im = ['1.jpg', '2.jpg', '3.jpg','4.jpg']\n",
        "imgs    = [ Image.open(i) for i in masks_path ]\n",
        "# pick the image which is the smallest, and resize the others to match it (can be arbitrary image shape here)\n",
        "min_shape = sorted( [(np.sum(i.size), i.size ) for i in imgs])[0][1]\n",
        "imgs_comb = np.hstack( (np.asarray( i.resize(min_shape) ) for i in imgs ) )\n",
        "\n",
        "# save that beautiful picture\n",
        "imgs_comb = Image.fromarray( imgs_comb)\n",
        "imgs_comb.save( 'sky_horizontal.jpg' )    \n",
        "\n",
        "# for a vertical stacking it is simple: use vstack\n",
        "imgs_comb = np.vstack( (np.asarray( i.resize(min_shape) ) for i in imgs ) )\n",
        "imgs_comb = Image.fromarray( imgs_comb)\n",
        "imgs_comb.save( 'sky_vertical.jpg' )\n",
        "#calculating fraction\n",
        "#img = cv2.imread(output, 0)\n",
        "img = cv2.imread('sky_horizontal.jpg', 0)\n",
        "c = 0\n",
        "x, y = img.shape\n",
        "for i in range(0,x):\n",
        "  for j in range(0,y):\n",
        "    if img[i][j] != 0:\n",
        "      c = c+1\n",
        "rounded = round(c/(x*y), 1)\n",
        "\n",
        "#calculating state name\n",
        "nomi = pgeocode.Nominatim('in')\n",
        "var = nomi.query_postal_code(obj.getPostalCode())\n",
        "#var = nomi.query_postal_code('412207')\n",
        "state_name = var.state_name\n",
        "stateName = state_name.lower()\n",
        "print(\"State name: {}\".format(stateName))\n",
        "stateName= stateName.split(' ')[0]\n",
        "#print(stateName)\n",
        "#calculating current month \n",
        "currentMonth = datetime.now().month\n",
        "print('Current month in numerical value is {}'.format(currentMonth))\n",
        "Months = ['jan','feb','mar','apr','may','jun','jul','aug','sep','oct','nov','dec']\n",
        "\n",
        "df = pd.read_csv('/content/gdrive/My Drive/minor/Irradiance_Dataset2.csv')\n",
        "stateName_index = []\n",
        "for i in df.index:\n",
        "  if df['State'][i].startswith(stateName):\n",
        "    stateName_index.append(i)\n",
        "#print(stateName_index)\n",
        "df = df.take(stateName_index)\n",
        "df2 = df[df['Month']==Months[currentMonth-1]]\n",
        "distances = []\n",
        "\n",
        "#calculation of irradiance values\n",
        "for i in df2.index:\n",
        "  distances.append(calculateDist(obj.getLat(),obj.getLon(),df2['Latitude'][i],df2['Longitude'][i]))\n",
        "\n",
        "index = df2.index[distances.index(min(distances))]\n",
        "closestDistrict = df2['District'][index]\n",
        "irradianceVal = df2['Irradiance'][index]\n",
        "temperature = df2['Temperature'][index]\n",
        "\n",
        "#formula for calculating solar potential in kWh per square meter per day\n",
        "solarPotential = irradianceVal * float(obj.getArea()) * rounded \n",
        "\n",
        "#formula for calculating Energy in Joules per square meter\n",
        "energy = solarPotential * 3600 * 1000\n",
        "\n",
        "#Since,Crops / plants absorb about 2% of solar energy falled on them\n",
        "energyPlants = energy * 0.02"
      ],
      "execution_count": 0,
      "outputs": [
        {
          "output_type": "stream",
          "text": [
            "State name: maharashtra\n",
            "maharashtra\n",
            "Current month in numerical value is 5\n",
            "[708, 709, 710, 711, 712, 713, 714, 715, 716, 717, 718, 719, 720, 721, 722, 723, 724, 725, 726, 727, 728, 729, 730, 731, 732, 733, 734, 735, 736, 737, 738, 739, 740, 741, 742, 743, 744, 745, 746, 747, 748, 749, 750, 751, 752, 753, 754, 755, 756, 757, 758, 759, 760, 761, 762, 763, 764, 765, 766, 767, 768, 769, 770, 771, 772, 773, 774, 775, 776, 777, 778, 779, 780, 781, 782, 783, 784, 785, 786, 787, 788, 789, 790, 791, 792, 793, 794, 795, 796, 797, 798, 799, 800, 801, 802, 803, 804, 805, 806, 807, 808, 809, 810, 811, 812, 813, 814, 815, 816, 817, 818, 819, 820, 821, 822, 823, 824, 825, 826, 827, 828, 829, 830, 831, 832, 833, 834, 835, 836, 837, 838, 839, 840, 841, 842, 843, 844, 845, 846, 847, 848, 849, 850, 851, 852, 853, 854, 855, 856, 857, 858, 859, 860, 861, 862, 863, 864, 865, 866, 867, 868, 869, 870, 871, 872, 873, 874, 875, 876, 877, 878, 879, 880, 881, 882, 883, 884, 885, 886, 887, 888, 889, 890, 891, 892, 893, 894, 895, 896, 897, 898, 899, 900, 901, 902, 903, 904, 905, 906, 907, 908, 909, 910, 911, 912, 913, 914, 915, 916, 917, 918, 919, 920, 921, 922, 923, 924, 925, 926, 927, 928, 929, 930, 931, 932, 933, 934, 935, 936, 937, 938, 939, 940, 941, 942, 943, 944, 945, 946, 947, 948, 949, 950, 951, 952, 953, 954, 955, 956, 957, 958, 959, 960, 961, 962, 963, 964, 965, 966, 967, 968, 969, 970, 971, 972, 973, 974, 975, 976, 977, 978, 979, 980, 981, 982, 983, 984, 985, 986, 987, 988, 989, 990, 991, 992, 993, 994, 995, 996, 997, 998, 999, 1000, 1001, 1002, 1003, 1004, 1005, 1006, 1007, 1008, 1009, 1010, 1011, 1012, 1013, 1014, 1015, 1016, 1017, 1018, 1019, 1020, 1021, 1022, 1023, 1024, 1025, 1026, 1027, 1028, 1029, 1030, 1031, 1032, 1033, 1034, 1035, 1036, 1037, 1038, 1039, 1040, 1041, 1042, 1043, 1044, 1045, 1046, 1047, 1048, 1049, 1050, 1051, 1052, 1053, 1054, 1055, 1056, 1057, 1058, 1059, 1060, 1061, 1062, 1063, 1064, 1065, 1066, 1067]\n"
          ],
          "name": "stdout"
        }
      ]
    },
    {
      "cell_type": "code",
      "metadata": {
        "id": "0hq-OWCHMwoN",
        "colab_type": "code",
        "outputId": "eaf37bdd-1532-4cdd-ea4d-987752ab74f7",
        "colab": {
          "base_uri": "https://localhost:8080/",
          "height": 162
        }
      },
      "source": [
        "plantsData = pd.read_excel('/content/gdrive/My Drive/minor/plants dataset.xlsx')\n",
        "plantsData.head(2)"
      ],
      "execution_count": 0,
      "outputs": [
        {
          "output_type": "execute_result",
          "data": {
            "text/html": [
              "<div>\n",
              "<style scoped>\n",
              "    .dataframe tbody tr th:only-of-type {\n",
              "        vertical-align: middle;\n",
              "    }\n",
              "\n",
              "    .dataframe tbody tr th {\n",
              "        vertical-align: top;\n",
              "    }\n",
              "\n",
              "    .dataframe thead th {\n",
              "        text-align: right;\n",
              "    }\n",
              "</style>\n",
              "<table border=\"1\" class=\"dataframe\">\n",
              "  <thead>\n",
              "    <tr style=\"text-align: right;\">\n",
              "      <th></th>\n",
              "      <th>plants</th>\n",
              "      <th>soil</th>\n",
              "      <th>min temp</th>\n",
              "      <th>max temp</th>\n",
              "      <th>energy/ sq. m in Joules</th>\n",
              "      <th>weather</th>\n",
              "      <th>months</th>\n",
              "      <th>image</th>\n",
              "    </tr>\n",
              "  </thead>\n",
              "  <tbody>\n",
              "    <tr>\n",
              "      <th>0</th>\n",
              "      <td>Tomato</td>\n",
              "      <td>Loam and Sandy Loam</td>\n",
              "      <td>18</td>\n",
              "      <td>24</td>\n",
              "      <td>409680</td>\n",
              "      <td>Warm / Summer</td>\n",
              "      <td>Mar - Jun</td>\n",
              "      <td>https://www.growjoy.com/store/pc/catalog/manal...</td>\n",
              "    </tr>\n",
              "    <tr>\n",
              "      <th>1</th>\n",
              "      <td>Spinach</td>\n",
              "      <td>Loam</td>\n",
              "      <td>10</td>\n",
              "      <td>22</td>\n",
              "      <td>417600</td>\n",
              "      <td>All</td>\n",
              "      <td>Sep - Jun</td>\n",
              "      <td>https://hips.hearstapps.com/hmg-prod.s3.amazon...</td>\n",
              "    </tr>\n",
              "  </tbody>\n",
              "</table>\n",
              "</div>"
            ],
            "text/plain": [
              "    plants  ...                                              image\n",
              "0   Tomato  ...  https://www.growjoy.com/store/pc/catalog/manal...\n",
              "1  Spinach  ...  https://hips.hearstapps.com/hmg-prod.s3.amazon...\n",
              "\n",
              "[2 rows x 8 columns]"
            ]
          },
          "metadata": {
            "tags": []
          },
          "execution_count": 105
        }
      ]
    },
    {
      "cell_type": "code",
      "metadata": {
        "id": "-xvY6b0vOzT7",
        "colab_type": "code",
        "cellView": "both",
        "colab": {}
      },
      "source": [
        "# @markdown Filter Plants that satisfies all necessary conditions\n",
        "plantIndex = []\n",
        "satisfiesTemp = set()\n",
        "satisfiesEnergy = set()\n",
        "plantsDistrict = df[df['District']==closestDistrict]\n",
        "name=''\n",
        "if rounded >= 0.3:\n",
        "  for i in plantsData.index:\n",
        "    if int(energyPlants) >= (plantsData['energy/ sq. m in Joules'][i] * float(obj.getArea())):\n",
        "      satisfiesEnergy.add(i)\n",
        "  for h in plantsDistrict.index:\n",
        "    plants = []\n",
        "    for ind in list(satisfiesEnergy):\n",
        "      if plantsDistrict['Temperature'][h] >= plantsData['min temp'][ind] and plantsDistrict['Temperature'][h] <= plantsData['max temp'][ind]:\n",
        "        plants.append(ind)\n",
        "      #print(plants)\n",
        "    best_plants[plantsDistrict['Month'][h]] = plants\n",
        "  for key,value in best_plants.items():\n",
        "    plants_list = \"_\".join(list(map(str,value)))\n",
        "    name = name + '(' + key + ')' + plants_list\n",
        "else:\n",
        "  name = \"NULL\"\n",
        "\n",
        "obj.saveResultToDatabase(name)"
      ],
      "execution_count": 0,
      "outputs": []
    },
    {
      "cell_type": "code",
      "metadata": {
        "id": "Q6bsRCuwRQZE",
        "colab_type": "code",
        "outputId": "6a85f841-12df-49c8-b45e-55f9db650e68",
        "colab": {
          "base_uri": "https://localhost:8080/",
          "height": 421
        }
      },
      "source": [
        "plantsDistrict"
      ],
      "execution_count": 0,
      "outputs": [
        {
          "output_type": "execute_result",
          "data": {
            "text/html": [
              "<div>\n",
              "<style scoped>\n",
              "    .dataframe tbody tr th:only-of-type {\n",
              "        vertical-align: middle;\n",
              "    }\n",
              "\n",
              "    .dataframe tbody tr th {\n",
              "        vertical-align: top;\n",
              "    }\n",
              "\n",
              "    .dataframe thead th {\n",
              "        text-align: right;\n",
              "    }\n",
              "</style>\n",
              "<table border=\"1\" class=\"dataframe\">\n",
              "  <thead>\n",
              "    <tr style=\"text-align: right;\">\n",
              "      <th></th>\n",
              "      <th>Unnamed: 0</th>\n",
              "      <th>State</th>\n",
              "      <th>District</th>\n",
              "      <th>Latitude</th>\n",
              "      <th>Longitude</th>\n",
              "      <th>Month</th>\n",
              "      <th>Irradiance</th>\n",
              "      <th>Temperature</th>\n",
              "    </tr>\n",
              "  </thead>\n",
              "  <tbody>\n",
              "    <tr>\n",
              "      <th>528</th>\n",
              "      <td>528</td>\n",
              "      <td>rajasthan</td>\n",
              "      <td>Jaipur</td>\n",
              "      <td>26.95</td>\n",
              "      <td>75.75</td>\n",
              "      <td>jan</td>\n",
              "      <td>4.22</td>\n",
              "      <td>16</td>\n",
              "    </tr>\n",
              "    <tr>\n",
              "      <th>529</th>\n",
              "      <td>529</td>\n",
              "      <td>rajasthan</td>\n",
              "      <td>Jaipur</td>\n",
              "      <td>26.95</td>\n",
              "      <td>75.75</td>\n",
              "      <td>feb</td>\n",
              "      <td>5.23</td>\n",
              "      <td>20</td>\n",
              "    </tr>\n",
              "    <tr>\n",
              "      <th>530</th>\n",
              "      <td>530</td>\n",
              "      <td>rajasthan</td>\n",
              "      <td>Jaipur</td>\n",
              "      <td>26.95</td>\n",
              "      <td>75.75</td>\n",
              "      <td>mar</td>\n",
              "      <td>6.26</td>\n",
              "      <td>25</td>\n",
              "    </tr>\n",
              "    <tr>\n",
              "      <th>531</th>\n",
              "      <td>531</td>\n",
              "      <td>rajasthan</td>\n",
              "      <td>Jaipur</td>\n",
              "      <td>26.95</td>\n",
              "      <td>75.75</td>\n",
              "      <td>apr</td>\n",
              "      <td>7.02</td>\n",
              "      <td>31</td>\n",
              "    </tr>\n",
              "    <tr>\n",
              "      <th>532</th>\n",
              "      <td>532</td>\n",
              "      <td>rajasthan</td>\n",
              "      <td>Jaipur</td>\n",
              "      <td>26.95</td>\n",
              "      <td>75.75</td>\n",
              "      <td>may</td>\n",
              "      <td>7.43</td>\n",
              "      <td>34</td>\n",
              "    </tr>\n",
              "    <tr>\n",
              "      <th>533</th>\n",
              "      <td>533</td>\n",
              "      <td>rajasthan</td>\n",
              "      <td>Jaipur</td>\n",
              "      <td>26.95</td>\n",
              "      <td>75.75</td>\n",
              "      <td>jun</td>\n",
              "      <td>6.61</td>\n",
              "      <td>34</td>\n",
              "    </tr>\n",
              "    <tr>\n",
              "      <th>534</th>\n",
              "      <td>534</td>\n",
              "      <td>rajasthan</td>\n",
              "      <td>Jaipur</td>\n",
              "      <td>26.95</td>\n",
              "      <td>75.75</td>\n",
              "      <td>jul</td>\n",
              "      <td>5.91</td>\n",
              "      <td>31</td>\n",
              "    </tr>\n",
              "    <tr>\n",
              "      <th>535</th>\n",
              "      <td>535</td>\n",
              "      <td>rajasthan</td>\n",
              "      <td>Jaipur</td>\n",
              "      <td>26.95</td>\n",
              "      <td>75.75</td>\n",
              "      <td>aug</td>\n",
              "      <td>5.37</td>\n",
              "      <td>29</td>\n",
              "    </tr>\n",
              "    <tr>\n",
              "      <th>536</th>\n",
              "      <td>536</td>\n",
              "      <td>rajasthan</td>\n",
              "      <td>Jaipur</td>\n",
              "      <td>26.95</td>\n",
              "      <td>75.75</td>\n",
              "      <td>sep</td>\n",
              "      <td>5.96</td>\n",
              "      <td>29</td>\n",
              "    </tr>\n",
              "    <tr>\n",
              "      <th>537</th>\n",
              "      <td>537</td>\n",
              "      <td>rajasthan</td>\n",
              "      <td>Jaipur</td>\n",
              "      <td>26.95</td>\n",
              "      <td>75.75</td>\n",
              "      <td>oct</td>\n",
              "      <td>5.55</td>\n",
              "      <td>28</td>\n",
              "    </tr>\n",
              "    <tr>\n",
              "      <th>538</th>\n",
              "      <td>538</td>\n",
              "      <td>rajasthan</td>\n",
              "      <td>Jaipur</td>\n",
              "      <td>26.95</td>\n",
              "      <td>75.75</td>\n",
              "      <td>nov</td>\n",
              "      <td>4.60</td>\n",
              "      <td>22</td>\n",
              "    </tr>\n",
              "    <tr>\n",
              "      <th>539</th>\n",
              "      <td>539</td>\n",
              "      <td>rajasthan</td>\n",
              "      <td>Jaipur</td>\n",
              "      <td>26.95</td>\n",
              "      <td>75.75</td>\n",
              "      <td>dec</td>\n",
              "      <td>3.98</td>\n",
              "      <td>18</td>\n",
              "    </tr>\n",
              "  </tbody>\n",
              "</table>\n",
              "</div>"
            ],
            "text/plain": [
              "     Unnamed: 0      State District  ...  Month  Irradiance Temperature\n",
              "528         528  rajasthan   Jaipur  ...    jan        4.22          16\n",
              "529         529  rajasthan   Jaipur  ...    feb        5.23          20\n",
              "530         530  rajasthan   Jaipur  ...    mar        6.26          25\n",
              "531         531  rajasthan   Jaipur  ...    apr        7.02          31\n",
              "532         532  rajasthan   Jaipur  ...    may        7.43          34\n",
              "533         533  rajasthan   Jaipur  ...    jun        6.61          34\n",
              "534         534  rajasthan   Jaipur  ...    jul        5.91          31\n",
              "535         535  rajasthan   Jaipur  ...    aug        5.37          29\n",
              "536         536  rajasthan   Jaipur  ...    sep        5.96          29\n",
              "537         537  rajasthan   Jaipur  ...    oct        5.55          28\n",
              "538         538  rajasthan   Jaipur  ...    nov        4.60          22\n",
              "539         539  rajasthan   Jaipur  ...    dec        3.98          18\n",
              "\n",
              "[12 rows x 8 columns]"
            ]
          },
          "metadata": {
            "tags": []
          },
          "execution_count": 106
        }
      ]
    },
    {
      "cell_type": "code",
      "metadata": {
        "id": "WHAAx5Ck-OaC",
        "colab_type": "code",
        "outputId": "452d0da8-e0d9-4375-d7b8-51f5797def75",
        "colab": {
          "base_uri": "https://localhost:8080/",
          "height": 54
        }
      },
      "source": [
        "name"
      ],
      "execution_count": 0,
      "outputs": [
        {
          "output_type": "execute_result",
          "data": {
            "text/plain": [
              "'(jan)13_22_26_28_29(feb)13_14_23_24_25_27_28_29(mar)14_24_25_27_28(apr)24_27(may)24_27(jun)27(jul)24_27(aug)24_27(sep)24_27(oct)24_25_27(nov)13_14_23_24_25_27_28_29(dec)13_14_23_25_28_29'"
            ]
          },
          "metadata": {
            "tags": []
          },
          "execution_count": 109
        }
      ]
    },
    {
      "cell_type": "code",
      "metadata": {
        "id": "sjvGyC0w-Ucz",
        "colab_type": "code",
        "outputId": "95330d2a-1a35-4d32-f9b5-5332279c869a",
        "colab": {
          "base_uri": "https://localhost:8080/",
          "height": 54
        }
      },
      "source": [
        "for h in plantsDistrict.index:\n",
        "  plants = []\n",
        "  for ind in list(satisfiesEnergy):\n",
        "    if plantsDistrict['Temperature'][h] >= plantsData['min temp'][ind] and plantsDistrict['Temperature'][h] <= plantsData['max temp'][ind]:\n",
        "      plants.append(plantsData['plants'][ind])\n",
        "      #print(plants)\n",
        "  best_plants[plantsDistrict['Month'][h]] = plants\n",
        "print(best_plants)"
      ],
      "execution_count": 0,
      "outputs": [
        {
          "output_type": "stream",
          "text": [
            "{'jan': ['Hibiscus', 'Bougainvillea', 'Allamanda', 'Plumerias', 'Rangoon Creeper'], 'feb': ['Hibiscus', 'Jasmine', 'Gardenias', 'Tuberose', 'Rose', 'Marigold', 'Plumerias', 'Rangoon Creeper'], 'mar': ['Jasmine', 'Tuberose', 'Rose', 'Marigold', 'Plumerias'], 'apr': ['Tuberose', 'Marigold'], 'may': ['Tuberose', 'Marigold'], 'jun': ['Marigold'], 'jul': ['Tuberose', 'Marigold'], 'aug': ['Tuberose', 'Marigold'], 'sep': ['Tuberose', 'Marigold'], 'oct': ['Tuberose', 'Rose', 'Marigold'], 'nov': ['Hibiscus', 'Jasmine', 'Gardenias', 'Tuberose', 'Rose', 'Marigold', 'Plumerias', 'Rangoon Creeper'], 'dec': ['Hibiscus', 'Jasmine', 'Gardenias', 'Rose', 'Plumerias', 'Rangoon Creeper']}\n"
          ],
          "name": "stdout"
        }
      ]
    },
    {
      "cell_type": "markdown",
      "metadata": {
        "id": "FFwpkUvq-k9E",
        "colab_type": "text"
      },
      "source": [
        "# **DO NOT RUN CODE AFTER THIS**\n",
        "This code is for *collage*"
      ]
    },
    {
      "cell_type": "code",
      "metadata": {
        "id": "5HUZHBK0J_uW",
        "colab_type": "code",
        "cellView": "form",
        "outputId": "a76bdc37-7789-425c-c083-c8bd18cd3d72",
        "colab": {
          "base_uri": "https://localhost:8080/",
          "height": 34
        }
      },
      "source": [
        "# @markdown IMAGE SEGMENTATION\n",
        "\n",
        "\n",
        "model = get_unet_256()\n",
        "data_dir = '/content'\n",
        "input_size = 256\n",
        "epochs = 5\n",
        "batch_size = 16\n",
        "\n",
        "orig_width = 580\n",
        "orig_height = 420\n",
        "\n",
        "threshold = 0.5\n",
        "\n",
        "model.load_weights('/content/gdrive/My Drive/minor/segmentation_weights2.h5')\n",
        "x_batch=[]\n",
        "\n",
        "def run_length_encode(img):\n",
        "    '''\n",
        "    img: numpy array, 1 - mask, 0 - background\n",
        "    Returns run length as string formated\n",
        "    '''\n",
        "    pixels = img.transpose().flatten()\n",
        "    pixels = np.concatenate([[0], pixels, [0]])\n",
        "    runs = np.where(pixels[1:] != pixels[:-1])[0] + 1\n",
        "    runs[1::2] -= runs[::2]\n",
        "    return ' '.join(str(x) for x in runs)\n",
        "\n",
        "\n",
        "img_path = '/content/' + obj.img_from_fb\n",
        "img = cv2.imread(img_path)\n",
        "img = cv2.resize(img, (input_size, input_size))\n",
        "x_batch.append(img)\n",
        "x_batch = np.array(x_batch, np.float32) / 255\n",
        "preds = model.predict(x_batch)\n",
        "preds = np.squeeze(preds, axis=3)\n",
        "prob = cv2.resize(preds[0], (orig_width, orig_height))\n",
        "mask = prob > threshold\n",
        "rle = run_length_encode(mask)\n",
        "\n",
        "def rle_decode(mask_rle, shape=(orig_width,orig_height)):\n",
        "    #print('rle_decode(mask_rle = ', mask_rle)\n",
        "    '''\n",
        "    mask_rle: run-length as string formated (start length)\n",
        "    shape: (height,width) of array to return\n",
        "    Returns numpy array, 1 - mask, 0 - background\n",
        "\n",
        "    '''\n",
        "    s = mask_rle.split()\n",
        "    starts, lengths = [np.asarray(x, dtype=int) for x in (s[0:][::2], s[1:][::2])]\n",
        "    starts -= 1\n",
        "    ends = starts + lengths\n",
        "    img = np.zeros(shape[0]*shape[1], dtype=np.float32)\n",
        "    for lo, hi in zip(starts, ends):\n",
        "        img[lo:hi] = 1\n",
        "    return img.reshape(shape).T  # Needed to align to RLE direction\n",
        "\n",
        "imgg= rle_decode(rle)\n",
        "mylist = img_path.split('/')\n",
        "mylist.pop()\n",
        "file_path = '/'.join(mylist)\n",
        "output = 'mask' + obj.img_from_fb\n",
        "out_path = os.path.join(file_path, output)\n",
        "save_img(out_path, imgg[..., np.newaxis])\n",
        "print('Image Saved Succesfully at {} location with image name : {}'.format(file_path,output))\n",
        "obj.uploadImageFromFireBase(out_path,output)\n"
      ],
      "execution_count": 0,
      "outputs": [
        {
          "output_type": "stream",
          "text": [
            "Image Saved Succesfully at /content location with image name : maskIMG_20200518_133614.png\n"
          ],
          "name": "stdout"
        }
      ]
    },
    {
      "cell_type": "code",
      "metadata": {
        "id": "MrsNAcCXoVhk",
        "colab_type": "code",
        "colab": {}
      },
      "source": [
        ""
      ],
      "execution_count": 0,
      "outputs": []
    }
  ]
}